{
 "cells": [
  {
   "cell_type": "markdown",
   "metadata": {},
   "source": [
    "Title: Datafun-06-eda\n",
    "\n",
    "Author: Cole Nollette\n",
    "\n",
    "Date: 2/12/24\n",
    "\n",
    "Design/Purpose: Project 6 I will be creating my own exploratory data analysis (EDA) project using GitHub, Git, Jupyter, Pandas, Seaborn, and other data analytic tools."
   ]
  },
  {
   "cell_type": "markdown",
   "metadata": {},
   "source": []
  },
  {
   "cell_type": "code",
   "execution_count": null,
   "metadata": {},
   "outputs": [],
   "source": []
  }
 ],
 "metadata": {
  "kernelspec": {
   "display_name": ".venv",
   "language": "python",
   "name": "python3"
  },
  "language_info": {
   "name": "python",
   "version": "3.12.1"
  }
 },
 "nbformat": 4,
 "nbformat_minor": 2
}
